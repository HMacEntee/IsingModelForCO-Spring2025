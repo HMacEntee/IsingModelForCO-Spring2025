{
 "cells": [
  {
   "cell_type": "code",
   "execution_count": 17,
   "metadata": {},
   "outputs": [],
   "source": [
    "from util import read_nxgraph\n",
    "from util import obj_maxcut"
   ]
  },
  {
   "cell_type": "code",
   "execution_count": 18,
   "metadata": {},
   "outputs": [],
   "source": [
    "def generate_initial_solution(V):\n",
    "    return"
   ]
  },
  {
   "cell_type": "code",
   "execution_count": 19,
   "metadata": {},
   "outputs": [],
   "source": [
    "def obj(graph):\n",
    "    return"
   ]
  },
  {
   "cell_type": "code",
   "execution_count": null,
   "metadata": {},
   "outputs": [
    {
     "ename": "NameError",
     "evalue": "name 'V' is not defined",
     "output_type": "error",
     "traceback": [
      "\u001b[1;31m---------------------------------------------------------------------------\u001b[0m",
      "\u001b[1;31mNameError\u001b[0m                                 Traceback (most recent call last)",
      "Cell \u001b[1;32mIn[20], line 2\u001b[0m\n\u001b[0;32m      1\u001b[0m graph \u001b[38;5;241m=\u001b[39m read_nxgraph(\u001b[38;5;124m'\u001b[39m\u001b[38;5;124m.././data/gset/gset_14.txt\u001b[39m\u001b[38;5;124m'\u001b[39m)\n\u001b[1;32m----> 2\u001b[0m graphPotential \u001b[38;5;241m=\u001b[39m generate_initial_solution(\u001b[43mV\u001b[49m)\n\u001b[0;32m      3\u001b[0m objVal \u001b[38;5;241m=\u001b[39m obj(graphPotential)\n\u001b[0;32m      4\u001b[0m graphBest \u001b[38;5;241m=\u001b[39m graphPotential\n",
      "\u001b[1;31mNameError\u001b[0m: name 'V' is not defined"
     ]
    }
   ],
   "source": [
    "graph = read_nxgraph('.././data/gset/gset_14.txt')\n",
    "graphPotential = generate_initial_solution(graph)\n",
    "objVal = obj(graphPotential)\n",
    "graphBest = graphPotential\n",
    "valBest = objVal\n",
    "graphPrev = graphPotential\n",
    "omega = 0\n",
    "iteration = 0"
   ]
  }
 ],
 "metadata": {
  "kernelspec": {
   "display_name": "venv",
   "language": "python",
   "name": "python3"
  },
  "language_info": {
   "codemirror_mode": {
    "name": "ipython",
    "version": 3
   },
   "file_extension": ".py",
   "mimetype": "text/x-python",
   "name": "python",
   "nbconvert_exporter": "python",
   "pygments_lexer": "ipython3",
   "version": "3.11.9"
  }
 },
 "nbformat": 4,
 "nbformat_minor": 2
}
