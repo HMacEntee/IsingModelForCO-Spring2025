{
 "cells": [
  {
   "cell_type": "code",
   "execution_count": 163,
   "metadata": {},
   "outputs": [],
   "source": [
    "import numpy as np\n",
    "import random\n",
    "\n",
    "from util import read_nxgraph\n",
    "from util import obj_maxcut"
   ]
  },
  {
   "cell_type": "code",
   "execution_count": 164,
   "metadata": {},
   "outputs": [],
   "source": [
    "class Bucket:\n",
    "    def __init__(self, gmin, gmax, solution, graph):\n",
    "        self.gmin = gmin\n",
    "        self.gmax = gmax\n",
    "        self.solution = solution\n",
    "        self.graph = graph\n",
    "        self.numBuckets = gmax - gmin + 1\n",
    "\n",
    "        self.bucketsA = [[] for _ in range(self.numBuckets)]\n",
    "        self.bucketsB = [[] for _ in range(self.numBuckets)]\n",
    "\n",
    "        self.maxgainA = None\n",
    "        self.maxgainB = None\n",
    "\n",
    "        self.vertexMap = {}\n",
    "\n",
    "    def calcGain(self, vertex):\n",
    "        newGraph = self.solution\n",
    "        vertexVal = self.solution[vertex]\n",
    "        if vertexVal == 0:\n",
    "            newGraph[vertex] = 1\n",
    "        else:\n",
    "            newGraph[vertex] = 0\n",
    "\n",
    "        return obj_maxcut(newGraph, self.graph) - obj_maxcut(self.solution, self.graph)\n",
    "\n",
    "    def addVertex(self, vertex, partition):\n",
    "        \"\"\"Add a vertex with a given gain to a specific partition.\"\"\"\n",
    "        gain = self.calcGain(vertex)\n",
    "        bucket_array = self.bucketsA if partition == 1 else self.bucketsB\n",
    "\n",
    "        bucket_array[vertex].append(vertex)\n",
    "        self.vertexMap[vertex] = (partition, gain, vertex)\n",
    "        self.update_maxgain(partition, vertex)\n",
    "\n",
    "    def removeVertex(self, vertex):\n",
    "        \"\"\"Remove a vertex from its current bucket.\"\"\"\n",
    "        if vertex in self.vertexMap:\n",
    "            partition, _, index = self.vertexMap[vertex]\n",
    "            bucket_array = self.bucketsA if partition == 1 else self.bucketsB\n",
    "\n",
    "            bucket_array[index].remove(vertex)\n",
    "            del self.vertexMap[vertex]\n",
    "            self.update_maxgain(partition)\n",
    "\n",
    "    def update_gain(self, vertex, new_gain):\n",
    "        \"\"\"Update the gain of a vertex.\"\"\"\n",
    "        if vertex in self.vertexMap:\n",
    "            partition, _, _ = self.vertexMap[vertex]\n",
    "            self.removeVertex(vertex)\n",
    "            self.addVertex(vertex, new_gain, partition)\n",
    "\n",
    "    def move_vertex(self, vertex):\n",
    "        \"\"\"Move a vertex from one partition to the other.\"\"\"\n",
    "        if vertex in self.vertexMap:\n",
    "            partition, gain, _ = self.vertexMap[vertex]\n",
    "            self.removeVertex(vertex)\n",
    "            new_partition = 2 if partition == 1 else 1\n",
    "            self.addVertex(vertex, gain, new_partition)\n",
    "\n",
    "    def update_maxgain(self, partition, start_index=None):\n",
    "        \"\"\"Update the maxgain pointer for the specified partition.\"\"\"\n",
    "        bucket_array = self.bucketsA if partition == 1 else self.bucketsB\n",
    "        maxgain_attr = 'maxgainA' if partition == 1 else 'maxgainB'\n",
    "\n",
    "        if start_index is None:\n",
    "            for i in range(self.numBuckets - 1, -1, -1):\n",
    "                if bucket_array[i]:\n",
    "                    setattr(self, maxgain_attr, i)\n",
    "                    return\n",
    "            setattr(self, maxgain_attr, None)\n",
    "        elif bucket_array[start_index]:\n",
    "            current_max = getattr(self, maxgain_attr)\n",
    "            setattr(self, maxgain_attr, max(current_max or 0, start_index))\n",
    "        else:\n",
    "            self.update_maxgain(partition)\n",
    "\n",
    "    def get_best_move(self):\n",
    "        bestA = None if self.maxgainA is None else self.bucketsA[self.maxgainA][-1]\n",
    "        bestB = None if self.maxgainB is None else self.bucketsB[self.maxgainB][-1]\n",
    "\n",
    "        return bestA if self.maxgainA >= self.maxgainB else bestB\n"
   ]
  },
  {
   "cell_type": "code",
   "execution_count": 165,
   "metadata": {},
   "outputs": [],
   "source": [
    "graph = read_nxgraph('.././data/gset/gset_14.txt')\n",
    "currSolution = list(np.random.randint(0, 2, graph.number_of_nodes()))\n",
    "bucket = Bucket(graph.number_of_nodes() * -1, graph.number_of_nodes(), currSolution, graph)\n",
    "currVal = obj_maxcut(currSolution, graph)\n",
    "bestSolution = currSolution\n",
    "bestVal = currVal\n",
    "prevSolution = currSolution\n",
    "omega = 0\n",
    "iteration = 0\n",
    "L0 = 0.01*graph.number_of_nodes()\n",
    "T = 1000\n",
    "gamma = random.randint(3,(graph.number_of_nodes()/10))\n",
    "P0 = 0.8\n",
    "Q = 0.5"
   ]
  },
  {
   "cell_type": "code",
   "execution_count": 166,
   "metadata": {},
   "outputs": [],
   "source": [
    "def perturbation(C, L, H, iteration, omega):\n",
    "    if omega == 0:\n",
    "        C = perturb(C,L,B)\n",
    "    else:\n",
    "        if (np.exp(-(omega)/T) > P0):\n",
    "            P = np.exp(-(omega)/T)\n",
    "        else:\n",
    "            P = P0\n",
    "\n",
    "        randProb = random.random()\n",
    "\n",
    "        if (randProb < (P * Q)):\n",
    "            perturb(C,L,A1)\n",
    "        elif (randProb < (P * Q + P (1-Q))):\n",
    "            perturb(C,L,A2)\n",
    "        else:\n",
    "            perturb(C,L,B)\n",
    "\n",
    "    return C"
   ]
  },
  {
   "cell_type": "code",
   "execution_count": 167,
   "metadata": {},
   "outputs": [],
   "source": [
    "def perturb(C,L,M):\n",
    "    for i in range(L):\n",
    "        m = M\n",
    "        #currSolution = currSolution xor M\n",
    "        H = iteration + gamma\n",
    "        iteration = iteration + 1\n",
    "    \n",
    "    return C"
   ]
  },
  {
   "cell_type": "code",
   "execution_count": 168,
   "metadata": {},
   "outputs": [],
   "source": [
    "for i in range(graph.number_of_nodes()):\n",
    "    if(currSolution[i] == 0):\n",
    "        bucket.addVertex(i, 0)\n",
    "    else:\n",
    "        bucket.addVertex(i, 1)"
   ]
  },
  {
   "cell_type": "code",
   "execution_count": 169,
   "metadata": {},
   "outputs": [
    {
     "name": "stdout",
     "output_type": "stream",
     "text": [
      "799\n"
     ]
    }
   ],
   "source": [
    "print(bucket.get_best_move())"
   ]
  },
  {
   "cell_type": "code",
   "execution_count": 170,
   "metadata": {},
   "outputs": [
    {
     "ename": "TypeError",
     "evalue": "object of type 'NoneType' has no len()",
     "output_type": "error",
     "traceback": [
      "\u001b[1;31m---------------------------------------------------------------------------\u001b[0m",
      "\u001b[1;31mTypeError\u001b[0m                                 Traceback (most recent call last)",
      "Cell \u001b[1;32mIn[170], line 4\u001b[0m\n\u001b[0;32m      1\u001b[0m \u001b[38;5;28;01mwhile\u001b[39;00m(iteration \u001b[38;5;241m<\u001b[39m \u001b[38;5;241m200000\u001b[39m\u001b[38;5;241m*\u001b[39mgraph\u001b[38;5;241m.\u001b[39mnumber_of_nodes()):\n\u001b[0;32m      2\u001b[0m     \u001b[38;5;66;03m#combo = [a ^ b for a,b in zip(currSolution, m)]\u001b[39;00m\n\u001b[0;32m      3\u001b[0m     combo \u001b[38;5;241m=\u001b[39m \u001b[38;5;28;01mNone\u001b[39;00m\n\u001b[1;32m----> 4\u001b[0m     \u001b[38;5;28;01mwhile\u001b[39;00m(\u001b[43mobj_maxcut\u001b[49m\u001b[43m(\u001b[49m\u001b[43mcombo\u001b[49m\u001b[43m,\u001b[49m\u001b[43m \u001b[49m\u001b[43mgraph\u001b[49m\u001b[43m)\u001b[49m \u001b[38;5;241m>\u001b[39m obj_maxcut(currSolution, graph)):\n\u001b[0;32m      5\u001b[0m         currVal \u001b[38;5;241m=\u001b[39m obj_maxcut(combo)\n\u001b[0;32m      6\u001b[0m         currSolution \u001b[38;5;241m=\u001b[39m combo\n",
      "File \u001b[1;32mc:\\Users\\hcmac\\Documents\\College Work\\Research\\Spring2025IsingResearch\\IsingModelForCO-Spring2025\\Codes\\util.py:74\u001b[0m, in \u001b[0;36mobj_maxcut\u001b[1;34m(result, graph)\u001b[0m\n\u001b[0;32m     73\u001b[0m \u001b[38;5;28;01mdef\u001b[39;00m \u001b[38;5;21mobj_maxcut\u001b[39m(result: Union[Tensor, List[\u001b[38;5;28mint\u001b[39m], np\u001b[38;5;241m.\u001b[39marray], graph: nx\u001b[38;5;241m.\u001b[39mGraph):\n\u001b[1;32m---> 74\u001b[0m     num_nodes \u001b[38;5;241m=\u001b[39m \u001b[38;5;28mlen\u001b[39m(result)\n\u001b[0;32m     75\u001b[0m     obj \u001b[38;5;241m=\u001b[39m \u001b[38;5;241m0\u001b[39m\n\u001b[0;32m     76\u001b[0m     adj_matrix \u001b[38;5;241m=\u001b[39m transfer_nxgraph_to_adjacencymatrix(graph)\n",
      "\u001b[1;31mTypeError\u001b[0m: object of type 'NoneType' has no len()"
     ]
    }
   ],
   "source": [
    "while(iteration < 200000*graph.number_of_nodes()):\n",
    "    #combo = [a ^ b for a,b in zip(currSolution, m)]\n",
    "    combo = None\n",
    "    while(obj_maxcut(combo, graph) > obj_maxcut(currSolution, graph)):\n",
    "        currVal = obj_maxcut(combo)\n",
    "        currSolution = combo\n",
    "        H = iteration + gamma \n",
    "        iteration = iteration + 1\n",
    "    \n",
    "    if currVal > bestVal:\n",
    "        bestSolution = currSolution\n",
    "        bestVal = currVal\n",
    "        omega = 0\n",
    "    else:\n",
    "        omega = omega + 1\n",
    "\n",
    "    # Determine the number of perturbation moves L to be applied to C\n",
    "\n",
    "    if omega > T:\n",
    "        # Search is stagnating, random perturbation is required\n",
    "        omega = 0\n",
    "    \n",
    "    if currSolution == prevSolution:\n",
    "        L = L + 1\n",
    "    else:\n",
    "        L = L0\n",
    "    \n",
    "    prevSolution = currSolution\n",
    "    currSolution = perturbation(currSolution, L, H, iteration, omega)"
   ]
  }
 ],
 "metadata": {
  "kernelspec": {
   "display_name": "venv",
   "language": "python",
   "name": "python3"
  },
  "language_info": {
   "codemirror_mode": {
    "name": "ipython",
    "version": 3
   },
   "file_extension": ".py",
   "mimetype": "text/x-python",
   "name": "python",
   "nbconvert_exporter": "python",
   "pygments_lexer": "ipython3",
   "version": "3.11.9"
  }
 },
 "nbformat": 4,
 "nbformat_minor": 2
}
